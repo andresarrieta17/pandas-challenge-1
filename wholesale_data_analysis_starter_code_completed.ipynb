{
 "cells": [
  {
   "cell_type": "markdown",
   "id": "dc0318d6",
   "metadata": {},
   "source": [
    "## Part 1: Explore the Data\n",
    "\n",
    "Import the data and use Pandas to learn more about the dataset."
   ]
  },
  {
   "cell_type": "code",
   "execution_count": 2,
   "id": "e076f57f",
   "metadata": {},
   "outputs": [
    {
     "data": {
      "text/html": [
       "<div>\n",
       "<style scoped>\n",
       "    .dataframe tbody tr th:only-of-type {\n",
       "        vertical-align: middle;\n",
       "    }\n",
       "\n",
       "    .dataframe tbody tr th {\n",
       "        vertical-align: top;\n",
       "    }\n",
       "\n",
       "    .dataframe thead th {\n",
       "        text-align: right;\n",
       "    }\n",
       "</style>\n",
       "<table border=\"1\" class=\"dataframe\">\n",
       "  <thead>\n",
       "    <tr style=\"text-align: right;\">\n",
       "      <th></th>\n",
       "      <th>first</th>\n",
       "      <th>last</th>\n",
       "      <th>job</th>\n",
       "      <th>phone</th>\n",
       "      <th>email</th>\n",
       "      <th>client_id</th>\n",
       "      <th>order_id</th>\n",
       "      <th>order_date</th>\n",
       "      <th>order_week</th>\n",
       "      <th>order_year</th>\n",
       "      <th>item_id</th>\n",
       "      <th>category</th>\n",
       "      <th>subcategory</th>\n",
       "      <th>unit_price</th>\n",
       "      <th>unit_cost</th>\n",
       "      <th>unit_weight</th>\n",
       "      <th>qty</th>\n",
       "      <th>line_number</th>\n",
       "    </tr>\n",
       "  </thead>\n",
       "  <tbody>\n",
       "    <tr>\n",
       "      <th>0</th>\n",
       "      <td>Donald</td>\n",
       "      <td>Harding</td>\n",
       "      <td>Immunologist</td>\n",
       "      <td>793-904-7725x39308</td>\n",
       "      <td>harding.donald.7185@sullivan.com</td>\n",
       "      <td>58515</td>\n",
       "      <td>8953482</td>\n",
       "      <td>2023-04-28</td>\n",
       "      <td>17</td>\n",
       "      <td>2023</td>\n",
       "      <td>EUD29711-63-6U</td>\n",
       "      <td>decor</td>\n",
       "      <td>wall art</td>\n",
       "      <td>1096.80</td>\n",
       "      <td>762.71</td>\n",
       "      <td>7.50</td>\n",
       "      <td>105</td>\n",
       "      <td>1</td>\n",
       "    </tr>\n",
       "    <tr>\n",
       "      <th>1</th>\n",
       "      <td>Tiffany</td>\n",
       "      <td>Myers</td>\n",
       "      <td>Music therapist</td>\n",
       "      <td>201.442.4543x942</td>\n",
       "      <td>myers.t.6537@ferguson-johnson.net</td>\n",
       "      <td>37609</td>\n",
       "      <td>8069089</td>\n",
       "      <td>2023-05-19</td>\n",
       "      <td>20</td>\n",
       "      <td>2023</td>\n",
       "      <td>XDA18116-89-4A</td>\n",
       "      <td>consumables</td>\n",
       "      <td>pens</td>\n",
       "      <td>24.95</td>\n",
       "      <td>15.09</td>\n",
       "      <td>1.49</td>\n",
       "      <td>21</td>\n",
       "      <td>0</td>\n",
       "    </tr>\n",
       "    <tr>\n",
       "      <th>2</th>\n",
       "      <td>Shannon</td>\n",
       "      <td>Watson</td>\n",
       "      <td>Immunologist</td>\n",
       "      <td>687.737.9424x8503</td>\n",
       "      <td>swatson8146@payne.net</td>\n",
       "      <td>57113</td>\n",
       "      <td>1902144</td>\n",
       "      <td>2023-01-29</td>\n",
       "      <td>4</td>\n",
       "      <td>2023</td>\n",
       "      <td>ABE59463-05-7E</td>\n",
       "      <td>software</td>\n",
       "      <td>project management</td>\n",
       "      <td>13.52</td>\n",
       "      <td>7.86</td>\n",
       "      <td>1.68</td>\n",
       "      <td>39</td>\n",
       "      <td>6</td>\n",
       "    </tr>\n",
       "    <tr>\n",
       "      <th>3</th>\n",
       "      <td>Nathan</td>\n",
       "      <td>Baker</td>\n",
       "      <td>Accounting technician</td>\n",
       "      <td>827-788-8123x012</td>\n",
       "      <td>bakernathan@benson.com</td>\n",
       "      <td>46554</td>\n",
       "      <td>9031802</td>\n",
       "      <td>2023-04-25</td>\n",
       "      <td>17</td>\n",
       "      <td>2023</td>\n",
       "      <td>ZMM00836-65-0C</td>\n",
       "      <td>consumables</td>\n",
       "      <td>pens</td>\n",
       "      <td>36.42</td>\n",
       "      <td>24.85</td>\n",
       "      <td>1.23</td>\n",
       "      <td>29</td>\n",
       "      <td>3</td>\n",
       "    </tr>\n",
       "    <tr>\n",
       "      <th>4</th>\n",
       "      <td>Christina</td>\n",
       "      <td>Schwartz</td>\n",
       "      <td>Chiropractor</td>\n",
       "      <td>265-829-3643</td>\n",
       "      <td>christinaschwartz9252@mcconnell.com</td>\n",
       "      <td>92089</td>\n",
       "      <td>1322274</td>\n",
       "      <td>2023-05-28</td>\n",
       "      <td>21</td>\n",
       "      <td>2023</td>\n",
       "      <td>BZX55559-12-3X</td>\n",
       "      <td>consumables</td>\n",
       "      <td>misc</td>\n",
       "      <td>195.10</td>\n",
       "      <td>108.17</td>\n",
       "      <td>46.43</td>\n",
       "      <td>20</td>\n",
       "      <td>1</td>\n",
       "    </tr>\n",
       "  </tbody>\n",
       "</table>\n",
       "</div>"
      ],
      "text/plain": [
       "       first      last                    job               phone  \\\n",
       "0     Donald   Harding           Immunologist  793-904-7725x39308   \n",
       "1    Tiffany     Myers        Music therapist    201.442.4543x942   \n",
       "2    Shannon    Watson           Immunologist   687.737.9424x8503   \n",
       "3     Nathan     Baker  Accounting technician    827-788-8123x012   \n",
       "4  Christina  Schwartz           Chiropractor        265-829-3643   \n",
       "\n",
       "                                 email  client_id  order_id  order_date  \\\n",
       "0     harding.donald.7185@sullivan.com      58515   8953482  2023-04-28   \n",
       "1    myers.t.6537@ferguson-johnson.net      37609   8069089  2023-05-19   \n",
       "2                swatson8146@payne.net      57113   1902144  2023-01-29   \n",
       "3               bakernathan@benson.com      46554   9031802  2023-04-25   \n",
       "4  christinaschwartz9252@mcconnell.com      92089   1322274  2023-05-28   \n",
       "\n",
       "   order_week  order_year         item_id     category         subcategory  \\\n",
       "0          17        2023  EUD29711-63-6U        decor            wall art   \n",
       "1          20        2023  XDA18116-89-4A  consumables                pens   \n",
       "2           4        2023  ABE59463-05-7E     software  project management   \n",
       "3          17        2023  ZMM00836-65-0C  consumables                pens   \n",
       "4          21        2023  BZX55559-12-3X  consumables                misc   \n",
       "\n",
       "   unit_price  unit_cost  unit_weight  qty  line_number  \n",
       "0     1096.80     762.71         7.50  105            1  \n",
       "1       24.95      15.09         1.49   21            0  \n",
       "2       13.52       7.86         1.68   39            6  \n",
       "3       36.42      24.85         1.23   29            3  \n",
       "4      195.10     108.17        46.43   20            1  "
      ]
     },
     "execution_count": 2,
     "metadata": {},
     "output_type": "execute_result"
    }
   ],
   "source": [
    "import pandas as pd\n",
    "\n",
    "df = pd.read_csv('Resources/client_dataset.csv')\n",
    "df.head()"
   ]
  },
  {
   "cell_type": "code",
   "execution_count": 3,
   "id": "71b9bbd2",
   "metadata": {},
   "outputs": [
    {
     "data": {
      "text/plain": [
       "Index(['first', 'last', 'job', 'phone', 'email', 'client_id', 'order_id',\n",
       "       'order_date', 'order_week', 'order_year', 'item_id', 'category',\n",
       "       'subcategory', 'unit_price', 'unit_cost', 'unit_weight', 'qty',\n",
       "       'line_number'],\n",
       "      dtype='object')"
      ]
     },
     "execution_count": 3,
     "metadata": {},
     "output_type": "execute_result"
    }
   ],
   "source": [
    "# View the column names in the data\n",
    "df.columns"
   ]
  },
  {
   "cell_type": "code",
   "execution_count": 4,
   "id": "bc0f4172",
   "metadata": {},
   "outputs": [
    {
     "data": {
      "text/plain": [
       "<bound method NDFrame.describe of            first       last                      job               phone  \\\n",
       "0         Donald    Harding             Immunologist  793-904-7725x39308   \n",
       "1        Tiffany      Myers          Music therapist    201.442.4543x942   \n",
       "2        Shannon     Watson             Immunologist   687.737.9424x8503   \n",
       "3         Nathan      Baker    Accounting technician    827-788-8123x012   \n",
       "4      Christina   Schwartz             Chiropractor        265-829-3643   \n",
       "...          ...        ...                      ...                 ...   \n",
       "54634     Lauren      Reese           Radio producer  977.877.5272x11382   \n",
       "54635    Derrick      Moore                 Musician        358.661.5483   \n",
       "54636     Monica  Gutierrez         Graphic designer    294.805.9100x339   \n",
       "54637      Wanda    Solomon             Toxicologist       (311)767-4924   \n",
       "54638     Dwayne       Bell  Chief Financial Officer   606-619-7667x9508   \n",
       "\n",
       "                                     email  client_id  order_id  order_date  \\\n",
       "0         harding.donald.7185@sullivan.com      58515   8953482  2023-04-28   \n",
       "1        myers.t.6537@ferguson-johnson.net      37609   8069089  2023-05-19   \n",
       "2                    swatson8146@payne.net      57113   1902144  2023-01-29   \n",
       "3                   bakernathan@benson.com      46554   9031802  2023-04-25   \n",
       "4      christinaschwartz9252@mcconnell.com      92089   1322274  2023-05-28   \n",
       "...                                    ...        ...       ...         ...   \n",
       "54634   late_reese_4081@montoya-chavez.org      29043   9021716  2023-04-26   \n",
       "54635         derrick.moore.2602@pope.info      41908   6290153  2023-02-08   \n",
       "54636            gutierrezm3195@morris.org      35176   8692622  2023-03-05   \n",
       "54637            solomonwanda5962@ross.org      24485   7592730  2023-01-18   \n",
       "54638                     belld@galvan.com      24007   7489403  2023-01-04   \n",
       "\n",
       "       order_week  order_year         item_id     category  \\\n",
       "0              17        2023  EUD29711-63-6U        decor   \n",
       "1              20        2023  XDA18116-89-4A  consumables   \n",
       "2               4        2023  ABE59463-05-7E     software   \n",
       "3              17        2023  ZMM00836-65-0C  consumables   \n",
       "4              21        2023  BZX55559-12-3X  consumables   \n",
       "...           ...         ...             ...          ...   \n",
       "54634          17        2023  UCA28532-31-0B     software   \n",
       "54635           6        2023  EBD29277-23-7U  consumables   \n",
       "54636           9        2023  EBD30093-55-9Z  consumables   \n",
       "54637           3        2023  XMZ38239-49-3D    furniture   \n",
       "54638           1        2023  ZCZ05589-50-5D     software   \n",
       "\n",
       "              subcategory  unit_price  unit_cost  unit_weight   qty  \\\n",
       "0                wall art     1096.80     762.71         7.50   105   \n",
       "1                    pens       24.95      15.09         1.49    21   \n",
       "2      project management       13.52       7.86         1.68    39   \n",
       "3                    pens       36.42      24.85         1.23    29   \n",
       "4                    misc      195.10     108.17        46.43    20   \n",
       "...                   ...         ...        ...          ...   ...   \n",
       "54634           logistics       83.13      51.60         2.25    33   \n",
       "54635    kitchen supplies      206.59     175.46        11.70    47   \n",
       "54636   bathroom supplies       65.66      57.31         4.16   475   \n",
       "54637              stands        1.48       1.22        18.04   112   \n",
       "54638  project management        3.01       1.61         2.07  1031   \n",
       "\n",
       "       line_number  \n",
       "0                1  \n",
       "1                0  \n",
       "2                6  \n",
       "3                3  \n",
       "4                1  \n",
       "...            ...  \n",
       "54634            8  \n",
       "54635            0  \n",
       "54636            6  \n",
       "54637            0  \n",
       "54638            5  \n",
       "\n",
       "[54639 rows x 18 columns]>"
      ]
     },
     "execution_count": 4,
     "metadata": {},
     "output_type": "execute_result"
    }
   ],
   "source": [
    "# Use the describe function to gather some basic statistics\n",
    "df.describe"
   ]
  },
  {
   "cell_type": "code",
   "execution_count": null,
   "id": "b24b53cc",
   "metadata": {},
   "outputs": [
    {
     "name": "stdout",
     "output_type": "stream",
     "text": [
      "<class 'pandas.core.frame.DataFrame'>\n",
      "RangeIndex: 54639 entries, 0 to 54638\n",
      "Data columns (total 18 columns):\n",
      " #   Column       Non-Null Count  Dtype  \n",
      "---  ------       --------------  -----  \n",
      " 0   first        54639 non-null  object \n",
      " 1   last         54639 non-null  object \n",
      " 2   job          54639 non-null  object \n",
      " 3   phone        54639 non-null  object \n",
      " 4   email        54639 non-null  object \n",
      " 5   client_id    54639 non-null  int64  \n",
      " 6   order_id     54639 non-null  int64  \n",
      " 7   order_date   54639 non-null  object \n",
      " 8   order_week   54639 non-null  int64  \n",
      " 9   order_year   54639 non-null  int64  \n",
      " 10  item_id      54639 non-null  object \n",
      " 11  category     54639 non-null  object \n",
      " 12  subcategory  54639 non-null  object \n",
      " 13  unit_price   54639 non-null  float64\n",
      " 14  unit_cost    54639 non-null  float64\n",
      " 15  unit_weight  54639 non-null  float64\n",
      " 16  qty          54639 non-null  int64  \n",
      " 17  line_number  54639 non-null  int64  \n",
      "dtypes: float64(3), int64(6), object(9)\n",
      "memory usage: 7.5+ MB\n"
     ]
    }
   ],
   "source": [
    "# Use this space to do any additional research\n",
    "# and familiarize yourself with the data.\n",
    "df.info()"
   ]
  },
  {
   "cell_type": "code",
   "execution_count": 7,
   "id": "551cb358",
   "metadata": {},
   "outputs": [
    {
     "data": {
      "text/plain": [
       "category\n",
       "consumables    23538\n",
       "furniture      11915\n",
       "software        8400\n",
       "Name: count, dtype: int64"
      ]
     },
     "execution_count": 7,
     "metadata": {},
     "output_type": "execute_result"
    }
   ],
   "source": [
    "# What three item categories had the most entries?\n",
    "df['category'].value_counts().head(3)"
   ]
  },
  {
   "cell_type": "code",
   "execution_count": 9,
   "id": "5f54e2cf",
   "metadata": {},
   "outputs": [
    {
     "data": {
      "text/plain": [
       "subcategory\n",
       "bathroom supplies    6424\n",
       "Name: count, dtype: int64"
      ]
     },
     "execution_count": 9,
     "metadata": {},
     "output_type": "execute_result"
    }
   ],
   "source": [
    "# For the category with the most entries, which subcategory had the most entries?\n",
    "df.groupby('category')['subcategory'].value_counts().loc[df['category'].value_counts().idxmax()].head(1)\n"
   ]
  },
  {
   "cell_type": "code",
   "execution_count": 10,
   "id": "2db94379",
   "metadata": {},
   "outputs": [
    {
     "data": {
      "text/plain": [
       "client_id\n",
       "33615    220\n",
       "66037    211\n",
       "46820    209\n",
       "38378    207\n",
       "24741    207\n",
       "Name: count, dtype: int64"
      ]
     },
     "execution_count": 10,
     "metadata": {},
     "output_type": "execute_result"
    }
   ],
   "source": [
    "# Which five clients had the most entries in the data?\n",
    "df['client_id'].value_counts().head(5)"
   ]
  },
  {
   "cell_type": "code",
   "execution_count": 14,
   "id": "a6635601",
   "metadata": {},
   "outputs": [
    {
     "name": "stdout",
     "output_type": "stream",
     "text": [
      "[33615, 66037, 46820, 38378, 24741]\n"
     ]
    }
   ],
   "source": [
    "# Store the client ids of those top 5 clients in a list.\n",
    "top_clients_list = list(df['client_id'].value_counts().index[:5])\n",
    "\n",
    "print(top_clients_list)\n"
   ]
  },
  {
   "cell_type": "code",
   "execution_count": 20,
   "id": "c88b8a3e",
   "metadata": {},
   "outputs": [
    {
     "data": {
      "text/plain": [
       "64313"
      ]
     },
     "execution_count": 20,
     "metadata": {},
     "output_type": "execute_result"
    }
   ],
   "source": [
    "# How many total units (the qty column) did the client with the most entries order order?\n",
    "df.groupby('client_id')['qty'].sum().loc[df['client_id'].value_counts().idxmax()]\n",
    "\n"
   ]
  },
  {
   "cell_type": "markdown",
   "id": "257fcd7d",
   "metadata": {},
   "source": [
    "## Part 2: Transform the Data\n",
    "Do we know that this client spent the more money than client 66037? If not, how would we find out? Transform the data using the steps below to prepare it for analysis."
   ]
  },
  {
   "cell_type": "code",
   "execution_count": 23,
   "id": "0c25c4a8",
   "metadata": {},
   "outputs": [
    {
     "name": "stdout",
     "output_type": "stream",
     "text": [
      "   unit_price  qty  line_subtotal\n",
      "0     1096.80  105      115164.00\n",
      "1       24.95   21         523.95\n"
     ]
    }
   ],
   "source": [
    "# Create a column that calculates the subtotal for each line using the unit_price and the qty\n",
    "df['line_subtotal'] = df['unit_price'] * df['qty']\n",
    "\n",
    "print(df[['unit_price', 'qty', 'line_subtotal']].head(2))"
   ]
  },
  {
   "cell_type": "code",
   "execution_count": 27,
   "id": "ac9dafc8",
   "metadata": {},
   "outputs": [
    {
     "name": "stdout",
     "output_type": "stream",
     "text": [
      "   unit_price  unit_weight  qty  total_weight  shipping_price\n",
      "0     1096.80         7.50  105        787.50         5512.50\n",
      "1       24.95         1.49   21         31.29          312.90\n",
      "2       13.52         1.68   39         65.52          458.64\n",
      "3       36.42         1.23   29         35.67          356.70\n",
      "4      195.10        46.43   20        928.60         6500.20\n"
     ]
    }
   ],
   "source": [
    "# Create a column for shipping price.\n",
    "# Assume a shipping price of $7 per pound for orders over 50 pounds and $10 per pound for items 50 pounds or under.\n",
    "df['total_weight'] = df['unit_weight'] * df['qty']\n",
    "\n",
    "df['shipping_price'] = df['total_weight'].apply(lambda x: x * 7 if x > 50 else x * 10)\n",
    "\n",
    "print(df[['unit_price', 'unit_weight', 'qty', 'total_weight', 'shipping_price']]. head())"
   ]
  },
  {
   "cell_type": "code",
   "execution_count": 28,
   "id": "77f42c67",
   "metadata": {},
   "outputs": [
    {
     "name": "stdout",
     "output_type": "stream",
     "text": [
      "   line_subtotal  shipping_price     line_price\n",
      "0      115164.00         5512.50  131839.076250\n",
      "1         523.95          312.90     914.258625\n",
      "2         527.28          458.64    1077.117600\n"
     ]
    }
   ],
   "source": [
    "# Create a column for the total price using the subtotal and the shipping price along with a sales tax of 9.25%\n",
    "df['line_price'] = (df['line_subtotal'] + df['shipping_price']) * 1.0925\n",
    "\n",
    "print(df[['line_subtotal', 'shipping_price', 'line_price']].head(3))"
   ]
  },
  {
   "cell_type": "code",
   "execution_count": null,
   "id": "c82ad275",
   "metadata": {},
   "outputs": [
    {
     "data": {
      "text/html": [
       "<div>\n",
       "<style scoped>\n",
       "    .dataframe tbody tr th:only-of-type {\n",
       "        vertical-align: middle;\n",
       "    }\n",
       "\n",
       "    .dataframe tbody tr th {\n",
       "        vertical-align: top;\n",
       "    }\n",
       "\n",
       "    .dataframe thead th {\n",
       "        text-align: right;\n",
       "    }\n",
       "</style>\n",
       "<table border=\"1\" class=\"dataframe\">\n",
       "  <thead>\n",
       "    <tr style=\"text-align: right;\">\n",
       "      <th></th>\n",
       "      <th>first</th>\n",
       "      <th>last</th>\n",
       "      <th>job</th>\n",
       "      <th>phone</th>\n",
       "      <th>email</th>\n",
       "      <th>client_id</th>\n",
       "      <th>order_id</th>\n",
       "      <th>order_date</th>\n",
       "      <th>order_week</th>\n",
       "      <th>order_year</th>\n",
       "      <th>...</th>\n",
       "      <th>unit_price</th>\n",
       "      <th>unit_cost</th>\n",
       "      <th>unit_weight</th>\n",
       "      <th>qty</th>\n",
       "      <th>line_number</th>\n",
       "      <th>line_subtotal</th>\n",
       "      <th>total_weight</th>\n",
       "      <th>shipping_price</th>\n",
       "      <th>line_price</th>\n",
       "      <th>line_cost</th>\n",
       "    </tr>\n",
       "  </thead>\n",
       "  <tbody>\n",
       "    <tr>\n",
       "      <th>0</th>\n",
       "      <td>Donald</td>\n",
       "      <td>Harding</td>\n",
       "      <td>Immunologist</td>\n",
       "      <td>793-904-7725x39308</td>\n",
       "      <td>harding.donald.7185@sullivan.com</td>\n",
       "      <td>58515</td>\n",
       "      <td>8953482</td>\n",
       "      <td>2023-04-28</td>\n",
       "      <td>17</td>\n",
       "      <td>2023</td>\n",
       "      <td>...</td>\n",
       "      <td>1096.80</td>\n",
       "      <td>762.71</td>\n",
       "      <td>7.50</td>\n",
       "      <td>105</td>\n",
       "      <td>1</td>\n",
       "      <td>115164.00</td>\n",
       "      <td>787.50</td>\n",
       "      <td>5512.50</td>\n",
       "      <td>131839.076250</td>\n",
       "      <td>85597.05</td>\n",
       "    </tr>\n",
       "    <tr>\n",
       "      <th>1</th>\n",
       "      <td>Tiffany</td>\n",
       "      <td>Myers</td>\n",
       "      <td>Music therapist</td>\n",
       "      <td>201.442.4543x942</td>\n",
       "      <td>myers.t.6537@ferguson-johnson.net</td>\n",
       "      <td>37609</td>\n",
       "      <td>8069089</td>\n",
       "      <td>2023-05-19</td>\n",
       "      <td>20</td>\n",
       "      <td>2023</td>\n",
       "      <td>...</td>\n",
       "      <td>24.95</td>\n",
       "      <td>15.09</td>\n",
       "      <td>1.49</td>\n",
       "      <td>21</td>\n",
       "      <td>0</td>\n",
       "      <td>523.95</td>\n",
       "      <td>31.29</td>\n",
       "      <td>312.90</td>\n",
       "      <td>914.258625</td>\n",
       "      <td>629.79</td>\n",
       "    </tr>\n",
       "    <tr>\n",
       "      <th>2</th>\n",
       "      <td>Shannon</td>\n",
       "      <td>Watson</td>\n",
       "      <td>Immunologist</td>\n",
       "      <td>687.737.9424x8503</td>\n",
       "      <td>swatson8146@payne.net</td>\n",
       "      <td>57113</td>\n",
       "      <td>1902144</td>\n",
       "      <td>2023-01-29</td>\n",
       "      <td>4</td>\n",
       "      <td>2023</td>\n",
       "      <td>...</td>\n",
       "      <td>13.52</td>\n",
       "      <td>7.86</td>\n",
       "      <td>1.68</td>\n",
       "      <td>39</td>\n",
       "      <td>6</td>\n",
       "      <td>527.28</td>\n",
       "      <td>65.52</td>\n",
       "      <td>458.64</td>\n",
       "      <td>1077.117600</td>\n",
       "      <td>765.18</td>\n",
       "    </tr>\n",
       "  </tbody>\n",
       "</table>\n",
       "<p>3 rows × 23 columns</p>\n",
       "</div>"
      ],
      "text/plain": [
       "     first     last              job               phone  \\\n",
       "0   Donald  Harding     Immunologist  793-904-7725x39308   \n",
       "1  Tiffany    Myers  Music therapist    201.442.4543x942   \n",
       "2  Shannon   Watson     Immunologist   687.737.9424x8503   \n",
       "\n",
       "                               email  client_id  order_id  order_date  \\\n",
       "0   harding.donald.7185@sullivan.com      58515   8953482  2023-04-28   \n",
       "1  myers.t.6537@ferguson-johnson.net      37609   8069089  2023-05-19   \n",
       "2              swatson8146@payne.net      57113   1902144  2023-01-29   \n",
       "\n",
       "   order_week  order_year  ... unit_price unit_cost unit_weight  qty  \\\n",
       "0          17        2023  ...    1096.80    762.71        7.50  105   \n",
       "1          20        2023  ...      24.95     15.09        1.49   21   \n",
       "2           4        2023  ...      13.52      7.86        1.68   39   \n",
       "\n",
       "   line_number  line_subtotal  total_weight  shipping_price     line_price  \\\n",
       "0            1      115164.00        787.50         5512.50  131839.076250   \n",
       "1            0         523.95         31.29          312.90     914.258625   \n",
       "2            6         527.28         65.52          458.64    1077.117600   \n",
       "\n",
       "   line_cost  \n",
       "0   85597.05  \n",
       "1     629.79  \n",
       "2     765.18  \n",
       "\n",
       "[3 rows x 23 columns]"
      ]
     },
     "execution_count": 29,
     "metadata": {},
     "output_type": "execute_result"
    }
   ],
   "source": [
    "# Create a column for the cost of each line using unit cost, qty, and\n",
    "# shipping price (assume the shipping cost is exactly what is charged to the client).\n",
    "df['line_cost'] = (df['unit_cost'] * df['qty']) + df['shipping_price']\n",
    "\n",
    "df.head(3)"
   ]
  },
  {
   "cell_type": "code",
   "execution_count": 30,
   "id": "e2389018",
   "metadata": {},
   "outputs": [
    {
     "data": {
      "text/html": [
       "<div>\n",
       "<style scoped>\n",
       "    .dataframe tbody tr th:only-of-type {\n",
       "        vertical-align: middle;\n",
       "    }\n",
       "\n",
       "    .dataframe tbody tr th {\n",
       "        vertical-align: top;\n",
       "    }\n",
       "\n",
       "    .dataframe thead th {\n",
       "        text-align: right;\n",
       "    }\n",
       "</style>\n",
       "<table border=\"1\" class=\"dataframe\">\n",
       "  <thead>\n",
       "    <tr style=\"text-align: right;\">\n",
       "      <th></th>\n",
       "      <th>first</th>\n",
       "      <th>last</th>\n",
       "      <th>job</th>\n",
       "      <th>phone</th>\n",
       "      <th>email</th>\n",
       "      <th>client_id</th>\n",
       "      <th>order_id</th>\n",
       "      <th>order_date</th>\n",
       "      <th>order_week</th>\n",
       "      <th>order_year</th>\n",
       "      <th>...</th>\n",
       "      <th>unit_cost</th>\n",
       "      <th>unit_weight</th>\n",
       "      <th>qty</th>\n",
       "      <th>line_number</th>\n",
       "      <th>line_subtotal</th>\n",
       "      <th>total_weight</th>\n",
       "      <th>shipping_price</th>\n",
       "      <th>line_price</th>\n",
       "      <th>line_cost</th>\n",
       "      <th>line_profit</th>\n",
       "    </tr>\n",
       "  </thead>\n",
       "  <tbody>\n",
       "    <tr>\n",
       "      <th>0</th>\n",
       "      <td>Donald</td>\n",
       "      <td>Harding</td>\n",
       "      <td>Immunologist</td>\n",
       "      <td>793-904-7725x39308</td>\n",
       "      <td>harding.donald.7185@sullivan.com</td>\n",
       "      <td>58515</td>\n",
       "      <td>8953482</td>\n",
       "      <td>2023-04-28</td>\n",
       "      <td>17</td>\n",
       "      <td>2023</td>\n",
       "      <td>...</td>\n",
       "      <td>762.71</td>\n",
       "      <td>7.50</td>\n",
       "      <td>105</td>\n",
       "      <td>1</td>\n",
       "      <td>115164.00</td>\n",
       "      <td>787.50</td>\n",
       "      <td>5512.50</td>\n",
       "      <td>131839.076250</td>\n",
       "      <td>85597.05</td>\n",
       "      <td>46242.026250</td>\n",
       "    </tr>\n",
       "    <tr>\n",
       "      <th>1</th>\n",
       "      <td>Tiffany</td>\n",
       "      <td>Myers</td>\n",
       "      <td>Music therapist</td>\n",
       "      <td>201.442.4543x942</td>\n",
       "      <td>myers.t.6537@ferguson-johnson.net</td>\n",
       "      <td>37609</td>\n",
       "      <td>8069089</td>\n",
       "      <td>2023-05-19</td>\n",
       "      <td>20</td>\n",
       "      <td>2023</td>\n",
       "      <td>...</td>\n",
       "      <td>15.09</td>\n",
       "      <td>1.49</td>\n",
       "      <td>21</td>\n",
       "      <td>0</td>\n",
       "      <td>523.95</td>\n",
       "      <td>31.29</td>\n",
       "      <td>312.90</td>\n",
       "      <td>914.258625</td>\n",
       "      <td>629.79</td>\n",
       "      <td>284.468625</td>\n",
       "    </tr>\n",
       "    <tr>\n",
       "      <th>2</th>\n",
       "      <td>Shannon</td>\n",
       "      <td>Watson</td>\n",
       "      <td>Immunologist</td>\n",
       "      <td>687.737.9424x8503</td>\n",
       "      <td>swatson8146@payne.net</td>\n",
       "      <td>57113</td>\n",
       "      <td>1902144</td>\n",
       "      <td>2023-01-29</td>\n",
       "      <td>4</td>\n",
       "      <td>2023</td>\n",
       "      <td>...</td>\n",
       "      <td>7.86</td>\n",
       "      <td>1.68</td>\n",
       "      <td>39</td>\n",
       "      <td>6</td>\n",
       "      <td>527.28</td>\n",
       "      <td>65.52</td>\n",
       "      <td>458.64</td>\n",
       "      <td>1077.117600</td>\n",
       "      <td>765.18</td>\n",
       "      <td>311.937600</td>\n",
       "    </tr>\n",
       "  </tbody>\n",
       "</table>\n",
       "<p>3 rows × 24 columns</p>\n",
       "</div>"
      ],
      "text/plain": [
       "     first     last              job               phone  \\\n",
       "0   Donald  Harding     Immunologist  793-904-7725x39308   \n",
       "1  Tiffany    Myers  Music therapist    201.442.4543x942   \n",
       "2  Shannon   Watson     Immunologist   687.737.9424x8503   \n",
       "\n",
       "                               email  client_id  order_id  order_date  \\\n",
       "0   harding.donald.7185@sullivan.com      58515   8953482  2023-04-28   \n",
       "1  myers.t.6537@ferguson-johnson.net      37609   8069089  2023-05-19   \n",
       "2              swatson8146@payne.net      57113   1902144  2023-01-29   \n",
       "\n",
       "   order_week  order_year  ... unit_cost unit_weight  qty  line_number  \\\n",
       "0          17        2023  ...    762.71        7.50  105            1   \n",
       "1          20        2023  ...     15.09        1.49   21            0   \n",
       "2           4        2023  ...      7.86        1.68   39            6   \n",
       "\n",
       "   line_subtotal  total_weight  shipping_price     line_price  line_cost  \\\n",
       "0      115164.00        787.50         5512.50  131839.076250   85597.05   \n",
       "1         523.95         31.29          312.90     914.258625     629.79   \n",
       "2         527.28         65.52          458.64    1077.117600     765.18   \n",
       "\n",
       "    line_profit  \n",
       "0  46242.026250  \n",
       "1    284.468625  \n",
       "2    311.937600  \n",
       "\n",
       "[3 rows x 24 columns]"
      ]
     },
     "execution_count": 30,
     "metadata": {},
     "output_type": "execute_result"
    }
   ],
   "source": [
    "# Create a column for the profit of each line using line cost and line price\n",
    "df['line_profit'] = df['line_price'] - df['line_cost']\n",
    "\n",
    "df.head(3)\n"
   ]
  },
  {
   "cell_type": "markdown",
   "id": "ef6f62b1",
   "metadata": {},
   "source": [
    "## Part 3: Confirm your work\n",
    "You have email receipts showing that the total prices for 3 orders. Confirm that your calculations match the receipts. Remember, each order has multiple lines.\n",
    "\n",
    "Order ID 2742071 had a total price of \\$152,811.89\n",
    "\n",
    "Order ID 2173913 had a total price of \\$162,388.71\n",
    "\n",
    "Order ID 6128929 had a total price of \\$923,441.25\n"
   ]
  },
  {
   "cell_type": "code",
   "execution_count": 31,
   "id": "c0e5d68e",
   "metadata": {},
   "outputs": [
    {
     "name": "stdout",
     "output_type": "stream",
     "text": [
      "Order 2742071 total: $152811.90\n",
      "Order 2173913 total: $162388.72\n",
      "Order 6128929 total: $923441.24\n"
     ]
    }
   ],
   "source": [
    "# Check your work using the totals above\n",
    "order_totals = df.groupby('order_id')['line_price'].sum()\n",
    "\n",
    "# Verify the totals for the given order IDs\n",
    "order_2742071 = order_totals.loc[2742071]\n",
    "order_2173913 = order_totals.loc[2173913]\n",
    "order_6128929 = order_totals.loc[6128929]\n",
    "\n",
    "# Print the results\n",
    "print(f\"Order 2742071 total: ${order_2742071:.2f}\")\n",
    "print(f\"Order 2173913 total: ${order_2173913:.2f}\")\n",
    "print(f\"Order 6128929 total: ${order_6128929:.2f}\")\n"
   ]
  },
  {
   "cell_type": "markdown",
   "id": "b94d58ab",
   "metadata": {},
   "source": [
    "## Part 4: Summarize and Analyze\n",
    "Use the new columns with confirmed values to find the following information."
   ]
  },
  {
   "cell_type": "code",
   "execution_count": 32,
   "id": "7c005f34",
   "metadata": {},
   "outputs": [
    {
     "name": "stdout",
     "output_type": "stream",
     "text": [
      "33615: $8377308.57\n",
      "66037: $10259514.80\n",
      "46820: $9743794.32\n",
      "38378: $12906550.88\n",
      "24741: $82268891.98\n"
     ]
    }
   ],
   "source": [
    "# How much did each of the top 5 clients by quantity spend? Check your work from Part 1 for client ids.\n",
    "top_client_spending = {client_id: df[df['client_id'] == client_id]['line_price'].sum() for client_id in top_clients_list}\n",
    "\n",
    "# Print the results\n",
    "for client_id, total_spent in top_client_spending.items():\n",
    "    print(f\"{client_id}: ${total_spent:.2f}\")\n",
    "\n"
   ]
  },
  {
   "cell_type": "code",
   "execution_count": null,
   "id": "81b6e4d2",
   "metadata": {},
   "outputs": [
    {
     "name": "stdout",
     "output_type": "stream",
     "text": [
      "   client_id     qty  shipping_price    line_price    line_cost   line_profit\n",
      "0      24741  239862      5126448.37  8.226889e+07  45688899.71  3.657999e+07\n",
      "1      33615   64313      1828984.89  8.377309e+06   6175313.91  2.201995e+06\n",
      "2      38378   73667      3429455.40  1.290655e+07   9634720.98  3.271830e+06\n",
      "3      46820   75768      1601448.84  9.743794e+06   7007191.64  2.736603e+06\n",
      "4      66037   43018      1395151.85  1.025951e+07   7004482.98  3.255032e+06\n"
     ]
    }
   ],
   "source": [
    "# Create a summary DataFrame showing the totals for the for the top 5 clients with the following information:\n",
    "# total units purchased, total shipping price, total revenue, and total profit. \n",
    "summary_df = df[df['client_id'].isin(top_clients_list)].groupby('client_id')[['qty', 'shipping_price', 'line_price', 'line_cost', 'line_profit']].sum().reset_index()\n",
    "\n",
    "# Display the summary DataFrame\n",
    "print(summary_df)"
   ]
  },
  {
   "cell_type": "code",
   "execution_count": 35,
   "id": "7be02867",
   "metadata": {},
   "outputs": [
    {
     "name": "stdout",
     "output_type": "stream",
     "text": [
      "   Client ID   Units  Shipping (millions)  Total Revenue (millions)  \\\n",
      "0      24741  239862             5.126448                 82.268892   \n",
      "1      33615   64313             1.828985                  8.377309   \n",
      "2      38378   73667             3.429455                 12.906551   \n",
      "3      46820   75768             1.601449                  9.743794   \n",
      "4      66037   43018             1.395152                 10.259515   \n",
      "\n",
      "   Total Cost (millions)  Total Profit (millions)  \n",
      "0              45.688900                36.579992  \n",
      "1               6.175314                 2.201995  \n",
      "2               9.634721                 3.271830  \n",
      "3               7.007192                 2.736603  \n",
      "4               7.004483                 3.255032  \n"
     ]
    }
   ],
   "source": [
    "# Format the data and rename the columns to names suitable for presentation.\n",
    "\n",
    "# Define the money columns\n",
    "money_columns = ['shipping_price', 'line_price', 'line_cost', 'line_profit']\n",
    "\n",
    "# Define a function to convert a dollar amount to millions\n",
    "def currency_format_millions(value):\n",
    "    return value / 1_000_000\n",
    "\n",
    "# Apply the currency_format_millions function to the money columns\n",
    "for col in money_columns:\n",
    "    summary_df[col] = summary_df[col].apply(currency_format_millions)\n",
    "\n",
    "# Rename the columns to names suitable for presentation\n",
    "summary_df.rename(columns={\n",
    "    'client_id': 'Client ID',\n",
    "    'qty': 'Units',\n",
    "    'shipping_price': 'Shipping (millions)',\n",
    "    'line_price': 'Total Revenue (millions)',\n",
    "    'line_cost': 'Total Cost (millions)',\n",
    "    'line_profit': 'Total Profit (millions)'\n",
    "}, inplace=True)\n",
    "\n",
    "# Display the formatted DataFrame\n",
    "print(summary_df)\n",
    "\n",
    "\n",
    "\n"
   ]
  },
  {
   "cell_type": "code",
   "execution_count": 36,
   "id": "8ead0986",
   "metadata": {},
   "outputs": [
    {
     "name": "stdout",
     "output_type": "stream",
     "text": [
      "   Client ID   Units  Shipping (millions)  Total Revenue (millions)  \\\n",
      "0      24741  239862             5.126448                 82.268892   \n",
      "2      38378   73667             3.429455                 12.906551   \n",
      "4      66037   43018             1.395152                 10.259515   \n",
      "3      46820   75768             1.601449                  9.743794   \n",
      "1      33615   64313             1.828985                  8.377309   \n",
      "\n",
      "   Total Cost (millions)  Total Profit (millions)  \n",
      "0              45.688900                36.579992  \n",
      "2               9.634721                 3.271830  \n",
      "4               7.004483                 3.255032  \n",
      "3               7.007192                 2.736603  \n",
      "1               6.175314                 2.201995  \n"
     ]
    }
   ],
   "source": [
    "# Sort the updated data by \"Total Profit (millions)\" form highest to lowest and assign the sort to a new DatFrame.\n",
    "# Sort the data by \"Total Profit (millions)\" in descending order\n",
    "sorted_summary_df = summary_df.sort_values(by='Total Profit (millions)', ascending=False)\n",
    "\n",
    "# Display the sorted DataFrame\n",
    "print(sorted_summary_df)\n"
   ]
  },
  {
   "cell_type": "code",
   "execution_count": null,
   "id": "87e0e7f8-b60e-4e50-ab07-c36b6deed513",
   "metadata": {},
   "outputs": [],
   "source": []
  }
 ],
 "metadata": {
  "kernelspec": {
   "display_name": "dev",
   "language": "python",
   "name": "python3"
  },
  "language_info": {
   "codemirror_mode": {
    "name": "ipython",
    "version": 3
   },
   "file_extension": ".py",
   "mimetype": "text/x-python",
   "name": "python",
   "nbconvert_exporter": "python",
   "pygments_lexer": "ipython3",
   "version": "3.10.15"
  }
 },
 "nbformat": 4,
 "nbformat_minor": 5
}
